{
 "cells": [
  {
   "cell_type": "code",
   "execution_count": null,
   "id": "891e8efb",
   "metadata": {
    "vscode": {
     "languageId": "plaintext"
    }
   },
   "outputs": [],
   "source": [
    "import pandas as pd\n",
    "import numpy as np\n",
    "from sklearn.ensemble import RandomForestClassifier\n",
    "from xgboost import XGBClassifier\n",
    "from sklearn.model_selection import GridSearchCV, RandomizedSearchCV\n",
    "from sklearn.metrics import classification_report, accuracy_score, confusion_matrix, f1_score\n",
    "import joblib"
   ]
  },
  {
   "cell_type": "code",
   "execution_count": null,
   "id": "d7eccc55",
   "metadata": {
    "vscode": {
     "languageId": "plaintext"
    }
   },
   "outputs": [
    {
     "name": "stdout",
     "output_type": "stream",
     "text": [
      "(3978, 21) (3978,) (426, 21) (426,)\n",
      "NSP\n",
      "2.0    1326\n",
      "0.0    1326\n",
      "1.0    1326\n",
      "Name: count, dtype: int64\n"
     ]
    }
   ],
   "source": [
    "X_train = pd.read_csv(\"data/processed/X_train_res.csv\")\n",
    "y_train = pd.read_csv(\"data/processed/y_train_res.csv\").squeeze()\n",
    "X_test = pd.read_csv(\"data/processed/X_test.csv\")\n",
    "y_test = pd.read_csv(\"data/processed/y_test.csv\").squeeze()\n",
    "\n",
    "# Labels shifted to 0,1,2\n",
    "y_train = y_train - 1\n",
    "y_test = y_test - 1\n",
    "\n",
    "print(\"Shapes:\", X_train.shape, y_train.shape)\n",
    "print(\"Training class distribution:\\n\", y_train.value_counts())"
   ]
  },
  {
   "cell_type": "markdown",
   "id": "a8bda272",
   "metadata": {},
   "source": [
    "Random Forest"
   ]
  },
  {
   "cell_type": "code",
   "execution_count": null,
   "id": "f7e38f36",
   "metadata": {
    "vscode": {
     "languageId": "plaintext"
    }
   },
   "outputs": [
    {
     "name": "stdout",
     "output_type": "stream",
     "text": [
      "Random Forest Results:\n",
      "              precision    recall  f1-score   support\n",
      "\n",
      "         0.0       0.97      0.97      0.97       332\n",
      "         1.0       0.82      0.83      0.82        59\n",
      "         2.0       0.94      0.91      0.93        35\n",
      "\n",
      "    accuracy                           0.95       426\n",
      "   macro avg       0.91      0.90      0.91       426\n",
      "weighted avg       0.95      0.95      0.95       426\n",
      "\n",
      "Best RF params: {'max_depth': 20, 'min_samples_split': 2, 'n_estimators': 100}\n"
     ]
    }
   ],
   "source": [
    "rf = RandomForestClassifier(random_state=42)\n",
    "rf.fit(X_train, y_train)\n",
    "y_pred_rf = rf.predict(X_test)\n",
    "\n",
    "print(\"Baseline Random Forest performance:\")\n",
    "print(classification_report(y_test, y_pred_rf, digits=3))\n",
    "\n",
    "rf_param_grid = {\n",
    "    \"n_estimators\": [100, 200, 300],\n",
    "    \"max_depth\": [None, 10, 20],\n",
    "    \"min_samples_split\": [2, 5, 10],\n",
    "}\n",
    "\n",
    "rf_grid = GridSearchCV(\n",
    "    rf, rf_param_grid,\n",
    "    cv=3, scoring=\"f1_macro\",\n",
    "    n_jobs=-1, verbose=1\n",
    ")\n",
    "rf_grid.fit(X_train, y_train)\n",
    "best_rf = rf_grid.best_estimator_\n",
    "\n",
    "print(\"Best Random Forest params:\", rf_grid.best_params_)\n",
    "y_pred_best_rf = best_rf.predict(X_test)\n",
    "print(\"Tuned Random Forest performance:\")\n",
    "print(classification_report(y_test, y_pred_best_rf, digits=3))\n",
    "\n",
    "joblib.dump(best_rf, \"models/random_forest.joblib\")"
   ]
  },
  {
   "cell_type": "markdown",
   "id": "f3e64ab2",
   "metadata": {},
   "source": [
    "XG Boost"
   ]
  },
  {
   "cell_type": "code",
   "execution_count": 32,
   "id": "28869609",
   "metadata": {
    "vscode": {
     "languageId": "plaintext"
    }
   },
   "outputs": [
    {
     "name": "stdout",
     "output_type": "stream",
     "text": [
      "Baseline XGB performance:\n",
      "              precision    recall  f1-score   support\n",
      "\n",
      "         0.0      0.967     0.973     0.970       332\n",
      "         1.0      0.855     0.797     0.825        59\n",
      "         2.0      0.865     0.914     0.889        35\n",
      "\n",
      "    accuracy                          0.944       426\n",
      "   macro avg      0.895     0.895     0.894       426\n",
      "weighted avg      0.943     0.944     0.943       426\n",
      "\n",
      "Fitting 3 folds for each of 15 candidates, totalling 45 fits\n",
      "Best XGB params: {'subsample': 1.0, 'n_estimators': 300, 'max_depth': 7, 'learning_rate': 0.05, 'colsample_bytree': 1.0}\n",
      "Tuned XGB performance:\n",
      "              precision    recall  f1-score   support\n",
      "\n",
      "         0.0      0.961     0.970     0.966       332\n",
      "         1.0      0.833     0.763     0.796        59\n",
      "         2.0      0.865     0.914     0.889        35\n",
      "\n",
      "    accuracy                          0.937       426\n",
      "   macro avg      0.886     0.882     0.884       426\n",
      "weighted avg      0.936     0.937     0.936       426\n",
      "\n"
     ]
    },
    {
     "data": {
      "text/plain": [
       "['models/best_xgboost.joblib']"
      ]
     },
     "execution_count": 32,
     "metadata": {},
     "output_type": "execute_result"
    }
   ],
   "source": [
    "xgb = XGBClassifier(random_state=42, eval_metric=\"mlogloss\")\n",
    "xgb.fit(X_train, y_train)\n",
    "y_pred_xgb = xgb.predict(X_test)\n",
    "\n",
    "print(\"Baseline XGBoost performance:\")\n",
    "print(classification_report(y_test, y_pred_xgb, digits=3))\n",
    "\n",
    "xgb_param_dist = {\n",
    "    \"n_estimators\": [100, 200, 300],\n",
    "    \"max_depth\": [3, 5, 7],\n",
    "    \"learning_rate\": [0.01, 0.05, 0.1],\n",
    "    \"subsample\": [0.7, 0.8, 1.0],\n",
    "    \"colsample_bytree\": [0.7, 0.8, 1.0]\n",
    "}\n",
    "\n",
    "xgb_search = RandomizedSearchCV(\n",
    "    xgb, xgb_param_dist,\n",
    "    cv=3, n_iter=15,\n",
    "    scoring=\"f1_macro\",\n",
    "    n_jobs=-1, verbose=1,\n",
    "    random_state=42\n",
    ")\n",
    "xgb_search.fit(X_train, y_train)\n",
    "best_xgb = xgb_search.best_estimator_\n",
    "\n",
    "print(\"Best XGBoost params:\", xgb_search.best_params_)\n",
    "y_pred_best_xgb = best_xgb.predict(X_test)\n",
    "print(\"Tuned XGBoost performance:\")\n",
    "print(classification_report(y_test, y_pred_best_xgb, digits=3))\n",
    "\n",
    "joblib.dump(best_xgb, \"models/xgboost.joblib\")"
   ]
  },
  {
   "cell_type": "code",
   "execution_count": 33,
   "id": "fb02e9c8",
   "metadata": {
    "vscode": {
     "languageId": "plaintext"
    }
   },
   "outputs": [
    {
     "name": "stdout",
     "output_type": "stream",
     "text": [
      "\n",
      "Model Comparison Summary:\n",
      "Random Forest: Accuracy = 0.944, F1_macro = 0.899\n",
      "XGBoost: Accuracy = 0.937, F1_macro = 0.884\n"
     ]
    }
   ],
   "source": [
    "models = {\n",
    "    \"Random Forest\": best_rf,\n",
    "    \"XGBoost\": best_xgb\n",
    "}\n",
    "\n",
    "results = {}\n",
    "for name, model in models.items():\n",
    "    y_pred = model.predict(X_test)\n",
    "    acc = accuracy_score(y_test, y_pred)\n",
    "    f1 = f1_score(y_test, y_pred, average=\"macro\")\n",
    "    results[name] = {\"Accuracy\": acc, \"F1_macro\": f1}\n",
    "\n",
    "print(\"\\nModel Comparison Summary:\")\n",
    "for name, res in results.items():\n",
    "    print(f\"{name}: Accuracy = {res['Accuracy']:.3f}, F1_macro = {res['F1_macro']:.3f}\")\n",
    "\n",
    "pd.DataFrame(results).T.to_csv(\"results/tree_model_comparison.csv\")"
   ]
  },
  {
   "cell_type": "code",
   "execution_count": null,
   "id": "e7478bd0-7233-4e91-a1e4-ddfd2421b413",
   "metadata": {},
   "outputs": [],
   "source": []
  }
 ],
 "metadata": {
  "kernelspec": {
   "display_name": "Fetal Health (venv)",
   "language": "python",
   "name": "venv"
  },
  "language_info": {
   "codemirror_mode": {
    "name": "ipython",
    "version": 3
   },
   "file_extension": ".py",
   "mimetype": "text/x-python",
   "name": "python",
   "nbconvert_exporter": "python",
   "pygments_lexer": "ipython3",
   "version": "3.9.6"
  }
 },
 "nbformat": 4,
 "nbformat_minor": 5
}
