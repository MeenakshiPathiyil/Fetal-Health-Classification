{
 "cells": [
  {
   "cell_type": "code",
   "execution_count": 118,
   "id": "4df069cb",
   "metadata": {
    "vscode": {
     "languageId": "plaintext"
    }
   },
   "outputs": [],
   "source": [
    "import os\n",
    "import joblib\n",
    "import numpy as np\n",
    "import pandas as pd\n",
    "import seaborn as sns\n",
    "import matplotlib.pyplot as plt\n",
    "\n",
    "from sklearn.preprocessing import StandardScaler\n",
    "from sklearn.pipeline import make_pipeline\n",
    "from sklearn.ensemble import VotingClassifier, StackingClassifier\n",
    "from sklearn.linear_model import LogisticRegression\n",
    "from sklearn.metrics import ( accuracy_score, f1_score, recall_score, precision_score, roc_auc_score, classification_report )\n",
    "from xgboost import XGBClassifier"
   ]
  },
  {
   "cell_type": "code",
   "execution_count": null,
   "id": "23decf9e",
   "metadata": {
    "vscode": {
     "languageId": "plaintext"
    }
   },
   "outputs": [
    {
     "name": "stdout",
     "output_type": "stream",
     "text": [
      "(3978, 21) (3978,) (426, 21) (426,)\n",
      "Train class distribution:\n",
      " NSP\n",
      "2.0    1326\n",
      "0.0    1326\n",
      "1.0    1326\n",
      "Name: count, dtype: int64\n"
     ]
    }
   ],
   "source": [
    "X_train = pd.read_csv(\"data/processed/X_train_res.csv\")\n",
    "y_train = pd.read_csv(\"data/processed/y_train_res.csv\").squeeze()\n",
    "X_test = pd.read_csv(\"data/processed/X_test.csv\")\n",
    "y_test = pd.read_csv(\"data/processed/y_test.csv\").squeeze()\n",
    "\n",
    "# Adjust labels from [1,2,3] → [0,1,2]\n",
    "y_train = y_train - 1\n",
    "y_test = y_test - 1\n",
    "\n",
    "print(X_train.shape, y_train.shape, X_test.shape, y_test.shape)\n",
    "print(\"Train class distribution:\\n\", y_train.value_counts())"
   ]
  },
  {
   "cell_type": "code",
   "execution_count": 120,
   "id": "83710eb9",
   "metadata": {
    "vscode": {
     "languageId": "plaintext"
    }
   },
   "outputs": [],
   "source": [
    "rf_best = joblib.load(\"models/random_forest.joblib\")\n",
    "xgb_best_loaded = joblib.load(\"models/xgboost.joblib\")"
   ]
  },
  {
   "cell_type": "code",
   "execution_count": 121,
   "id": "192500a5",
   "metadata": {
    "vscode": {
     "languageId": "plaintext"
    }
   },
   "outputs": [],
   "source": [
    "xgb_for_ensemble = XGBClassifier(\n",
    "    n_estimators=xgb_best_loaded.n_estimators,\n",
    "    max_depth=xgb_best_loaded.max_depth,\n",
    "    learning_rate=xgb_best_loaded.learning_rate,\n",
    "    subsample=xgb_best_loaded.subsample,\n",
    "    colsample_bytree=xgb_best_loaded.colsample_bytree,\n",
    "    objective='multi:softprob',\n",
    "    num_class=3,\n",
    "    random_state=42,\n",
    "    eval_metric='mlogloss'\n",
    ")"
   ]
  },
  {
   "cell_type": "code",
   "execution_count": 122,
   "id": "4c819605",
   "metadata": {
    "vscode": {
     "languageId": "plaintext"
    }
   },
   "outputs": [],
   "source": [
    "voting_clf = VotingClassifier(\n",
    "    estimators=[\n",
    "        ('rf', rf_best),\n",
    "        ('xgb', xgb_for_ensemble)\n",
    "    ],\n",
    "    voting='soft'\n",
    ")\n",
    "\n",
    "voting_clf.fit(X_train, y_train)\n",
    "y_pred_vote = voting_clf.predict(X_test)"
   ]
  },
  {
   "cell_type": "code",
   "execution_count": 123,
   "id": "6ed0cce3",
   "metadata": {
    "vscode": {
     "languageId": "plaintext"
    }
   },
   "outputs": [
    {
     "name": "stderr",
     "output_type": "stream",
     "text": [
      "/Users/meenakshi/Fetal-Health-Classification/venv/lib/python3.9/site-packages/sklearn/linear_model/_linear_loss.py:203: RuntimeWarning: divide by zero encountered in matmul\n",
      "  raw_prediction = X @ weights.T + intercept  # ndarray, likely C-contiguous\n",
      "/Users/meenakshi/Fetal-Health-Classification/venv/lib/python3.9/site-packages/sklearn/linear_model/_linear_loss.py:203: RuntimeWarning: overflow encountered in matmul\n",
      "  raw_prediction = X @ weights.T + intercept  # ndarray, likely C-contiguous\n",
      "/Users/meenakshi/Fetal-Health-Classification/venv/lib/python3.9/site-packages/sklearn/linear_model/_linear_loss.py:203: RuntimeWarning: invalid value encountered in matmul\n",
      "  raw_prediction = X @ weights.T + intercept  # ndarray, likely C-contiguous\n",
      "/Users/meenakshi/Fetal-Health-Classification/venv/lib/python3.9/site-packages/sklearn/linear_model/_linear_loss.py:336: RuntimeWarning: divide by zero encountered in matmul\n",
      "  grad[:, :n_features] = grad_pointwise.T @ X + l2_reg_strength * weights\n",
      "/Users/meenakshi/Fetal-Health-Classification/venv/lib/python3.9/site-packages/sklearn/linear_model/_linear_loss.py:336: RuntimeWarning: overflow encountered in matmul\n",
      "  grad[:, :n_features] = grad_pointwise.T @ X + l2_reg_strength * weights\n",
      "/Users/meenakshi/Fetal-Health-Classification/venv/lib/python3.9/site-packages/sklearn/linear_model/_linear_loss.py:336: RuntimeWarning: invalid value encountered in matmul\n",
      "  grad[:, :n_features] = grad_pointwise.T @ X + l2_reg_strength * weights\n",
      "/Users/meenakshi/Fetal-Health-Classification/venv/lib/python3.9/site-packages/sklearn/utils/extmath.py:203: RuntimeWarning: divide by zero encountered in matmul\n",
      "  ret = a @ b\n",
      "/Users/meenakshi/Fetal-Health-Classification/venv/lib/python3.9/site-packages/sklearn/utils/extmath.py:203: RuntimeWarning: overflow encountered in matmul\n",
      "  ret = a @ b\n",
      "/Users/meenakshi/Fetal-Health-Classification/venv/lib/python3.9/site-packages/sklearn/utils/extmath.py:203: RuntimeWarning: invalid value encountered in matmul\n",
      "  ret = a @ b\n",
      "/Users/meenakshi/Fetal-Health-Classification/venv/lib/python3.9/site-packages/sklearn/utils/extmath.py:203: RuntimeWarning: divide by zero encountered in matmul\n",
      "  ret = a @ b\n",
      "/Users/meenakshi/Fetal-Health-Classification/venv/lib/python3.9/site-packages/sklearn/utils/extmath.py:203: RuntimeWarning: overflow encountered in matmul\n",
      "  ret = a @ b\n",
      "/Users/meenakshi/Fetal-Health-Classification/venv/lib/python3.9/site-packages/sklearn/utils/extmath.py:203: RuntimeWarning: invalid value encountered in matmul\n",
      "  ret = a @ b\n"
     ]
    }
   ],
   "source": [
    "stacking_clf = StackingClassifier(\n",
    "    estimators=[\n",
    "        ('rf', rf_best),\n",
    "        ('xgb', xgb_for_ensemble)\n",
    "    ],\n",
    "    final_estimator=make_pipeline(\n",
    "        StandardScaler(),\n",
    "        LogisticRegression(max_iter=2000, solver='lbfgs')\n",
    "    ),\n",
    "    stack_method='predict_proba',\n",
    "    passthrough=False\n",
    ")\n",
    "\n",
    "stacking_clf.fit(X_train, y_train)\n",
    "y_pred_stack = stacking_clf.predict(X_test)\n",
    "y_prob_stack = stacking_clf.predict_proba(X_test)\n",
    "\n",
    "y_pred_vote = voting_clf.predict(X_test)\n",
    "y_prob_vote = voting_clf.predict_proba(X_test)"
   ]
  },
  {
   "cell_type": "code",
   "execution_count": 124,
   "id": "64ba4c4e",
   "metadata": {
    "vscode": {
     "languageId": "plaintext"
    }
   },
   "outputs": [
    {
     "name": "stdout",
     "output_type": "stream",
     "text": [
      "\n",
      "Voting Ensemble Results:\n",
      "Accuracy:  0.9460 | Precision: 0.9146 | Recall: 0.8910 | F1: 0.9020 | ROC AUC: 0.9883\n",
      "              precision    recall  f1-score   support\n",
      "\n",
      "         0.0      0.962     0.979     0.970       332\n",
      "         1.0      0.868     0.780     0.821        59\n",
      "         2.0      0.914     0.914     0.914        35\n",
      "\n",
      "    accuracy                          0.946       426\n",
      "   macro avg      0.915     0.891     0.902       426\n",
      "weighted avg      0.945     0.946     0.945       426\n",
      "\n",
      "\n",
      "Stacking Ensemble Results:\n",
      "Accuracy:  0.9413 | Precision: 0.9065 | Recall: 0.8758 | F1: 0.8903 | ROC AUC: 0.9875\n",
      "              precision    recall  f1-score   support\n",
      "\n",
      "         0.0      0.959     0.979     0.969       332\n",
      "         1.0      0.849     0.763     0.804        59\n",
      "         2.0      0.912     0.886     0.899        35\n",
      "\n",
      "    accuracy                          0.941       426\n",
      "   macro avg      0.907     0.876     0.890       426\n",
      "weighted avg      0.940     0.941     0.940       426\n",
      "\n",
      "\n",
      "Overall Comparison:\n",
      "                    Accuracy  Precision    Recall  F1_score   ROC_AUC\n",
      "Voting Ensemble    0.946009   0.914583  0.890954  0.901955  0.988285\n",
      "Stacking Ensemble  0.941315   0.906508  0.875781  0.890275  0.987453\n"
     ]
    }
   ],
   "source": [
    "def evaluate_model(name, y_true, y_pred, y_prob):\n",
    "    acc = accuracy_score(y_true, y_pred)\n",
    "    prec = precision_score(y_true, y_pred, average='macro')\n",
    "    rec = recall_score(y_true, y_pred, average='macro')\n",
    "    f1 = f1_score(y_true, y_pred, average='macro')\n",
    "\n",
    "    # Handle multi-class ROC AUC properly\n",
    "    roc_auc = roc_auc_score(y_true, y_prob, multi_class='ovr')\n",
    "\n",
    "    print(f\"\\n{name} Results:\")\n",
    "    print(f\"Accuracy:  {acc:.4f} | Precision: {prec:.4f} | Recall: {rec:.4f} | F1: {f1:.4f} | ROC AUC: {roc_auc:.4f}\")\n",
    "    print(classification_report(y_true, y_pred, digits=3))\n",
    "    return acc, prec, rec, f1, roc_auc\n",
    "\n",
    "\n",
    "# Evaluate both models\n",
    "metrics = {}\n",
    "metrics['Voting Ensemble'] = evaluate_model(\"Voting Ensemble\", y_test, y_pred_vote, y_prob_vote)\n",
    "metrics['Stacking Ensemble'] = evaluate_model(\"Stacking Ensemble\", y_test, y_pred_stack, y_prob_stack)\n",
    "\n",
    "# Summary DataFrame\n",
    "metrics_df = pd.DataFrame(metrics, index=[\"Accuracy\", \"Precision\", \"Recall\", \"F1_score\", \"ROC_AUC\"]).T\n",
    "print(\"\\nOverall Comparison:\\n\", metrics_df)"
   ]
  },
  {
   "cell_type": "code",
   "execution_count": 125,
   "id": "1e4783fd",
   "metadata": {
    "vscode": {
     "languageId": "plaintext"
    }
   },
   "outputs": [
    {
     "data": {
      "image/png": "[encoded data removed]",
      "text/plain": [
       "<Figure size 640x480 with 1 Axes>"
      ]
     },
     "metadata": {},
     "output_type": "display_data"
    }
   ],
   "source": [
    "sns.barplot(data=metrics_df, x=metrics_df.index, y=\"F1_score\")\n",
    "plt.title(\"Ensemble Model Comparison (F1 Score)\")\n",
    "plt.show()\n"
   ]
  },
  {
   "cell_type": "code",
   "execution_count": 126,
   "id": "bec00c43",
   "metadata": {
    "vscode": {
     "languageId": "plaintext"
    }
   },
   "outputs": [
    {
     "name": "stdout",
     "output_type": "stream",
     "text": [
      "\n",
      "Ensembles completed and models saved\n"
     ]
    }
   ],
   "source": [
    "os.makedirs(\"models\", exist_ok=True)\n",
    "joblib.dump(voting_clf, \"models/best_voting_ensemble.joblib\")\n",
    "joblib.dump(stacking_clf, \"models/best_stacking_ensemble.joblib\")\n",
    "print(\"\\nEnsembles completed and models saved\")"
   ]
  }
 ],
 "metadata": {
  "kernelspec": {
   "display_name": "Fetal Health (venv)",
   "language": "python",
   "name": "venv"
  },
  "language_info": {
   "codemirror_mode": {
    "name": "ipython",
    "version": 3
   },
   "file_extension": ".py",
   "mimetype": "text/x-python",
   "name": "python",
   "nbconvert_exporter": "python",
   "pygments_lexer": "ipython3",
   "version": "3.9.6"
  }
 },
 "nbformat": 4,
 "nbformat_minor": 5
}
