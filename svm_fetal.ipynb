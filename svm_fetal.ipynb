{
 "cells": [
  {
   "cell_type": "code",
   "execution_count": 3,
   "metadata": {
    "id": "HcOa2pv-Ksr6"
   },
   "outputs": [],
   "source": [
    "import numpy as np\n",
    "import pandas as pd\n",
    "from sklearn.preprocessing import StandardScaler\n",
    "from sklearn.svm import SVC\n",
    "from sklearn.model_selection import GridSearchCV\n",
    "from sklearn.metrics import accuracy_score, precision_score, recall_score, f1_score, roc_auc_score, classification_report\n",
    "import matplotlib.pyplot as plt\n",
    "import seaborn as sns\n",
    "sns.set_style(\"whitegrid\")\n"
   ]
  },
  {
   "cell_type": "code",
   "execution_count": 4,
   "metadata": {
    "colab": {
     "base_uri": "https://localhost:8080/",
     "height": 514
    },
    "id": "VT0GCnG5MEUA",
    "outputId": "b735936b-7a37-45b9-8a4b-2b7c0831a8d4"
   },
   "outputs": [
    {
     "name": "stdout",
     "output_type": "stream",
     "text": [
      "X_train shape: (3978, 21)\n",
      "X_test shape: (426, 21)\n",
      "y_train shape: (3978, 1)\n",
      "y_test shape: (426, 1)\n"
     ]
    },
    {
     "data": {
      "text/html": [
       "<div>\n",
       "<style scoped>\n",
       "    .dataframe tbody tr th:only-of-type {\n",
       "        vertical-align: middle;\n",
       "    }\n",
       "\n",
       "    .dataframe tbody tr th {\n",
       "        vertical-align: top;\n",
       "    }\n",
       "\n",
       "    .dataframe thead th {\n",
       "        text-align: right;\n",
       "    }\n",
       "</style>\n",
       "<table border=\"1\" class=\"dataframe\">\n",
       "  <thead>\n",
       "    <tr style=\"text-align: right;\">\n",
       "      <th></th>\n",
       "      <th>LB</th>\n",
       "      <th>AC.1</th>\n",
       "      <th>FM.1</th>\n",
       "      <th>UC.1</th>\n",
       "      <th>DL.1</th>\n",
       "      <th>DS.1</th>\n",
       "      <th>DP.1</th>\n",
       "      <th>ASTV</th>\n",
       "      <th>MSTV</th>\n",
       "      <th>ALTV</th>\n",
       "      <th>...</th>\n",
       "      <th>Width</th>\n",
       "      <th>Min</th>\n",
       "      <th>Max</th>\n",
       "      <th>Nmax</th>\n",
       "      <th>Nzeros</th>\n",
       "      <th>Mode</th>\n",
       "      <th>Mean</th>\n",
       "      <th>Median</th>\n",
       "      <th>Variance</th>\n",
       "      <th>Tendency</th>\n",
       "    </tr>\n",
       "  </thead>\n",
       "  <tbody>\n",
       "    <tr>\n",
       "      <th>0</th>\n",
       "      <td>-1.032333</td>\n",
       "      <td>-0.834435</td>\n",
       "      <td>-0.206244</td>\n",
       "      <td>0.896032</td>\n",
       "      <td>0.047600</td>\n",
       "      <td>-0.059461</td>\n",
       "      <td>2.986443</td>\n",
       "      <td>-1.195728</td>\n",
       "      <td>3.331247</td>\n",
       "      <td>-0.535843</td>\n",
       "      <td>...</td>\n",
       "      <td>1.939469</td>\n",
       "      <td>-1.474154</td>\n",
       "      <td>1.782380</td>\n",
       "      <td>1.320689</td>\n",
       "      <td>1.032381</td>\n",
       "      <td>-0.687493</td>\n",
       "      <td>-1.887059</td>\n",
       "      <td>-1.726861</td>\n",
       "      <td>3.316840</td>\n",
       "      <td>-0.526713</td>\n",
       "    </tr>\n",
       "    <tr>\n",
       "      <th>1</th>\n",
       "      <td>0.192158</td>\n",
       "      <td>-0.575829</td>\n",
       "      <td>-0.164756</td>\n",
       "      <td>-1.484534</td>\n",
       "      <td>-0.630753</td>\n",
       "      <td>-0.059461</td>\n",
       "      <td>-0.272713</td>\n",
       "      <td>0.652431</td>\n",
       "      <td>-0.828669</td>\n",
       "      <td>0.277039</td>\n",
       "      <td>...</td>\n",
       "      <td>0.626853</td>\n",
       "      <td>-0.794055</td>\n",
       "      <td>0.055794</td>\n",
       "      <td>0.308022</td>\n",
       "      <td>-0.470307</td>\n",
       "      <td>0.101947</td>\n",
       "      <td>0.353185</td>\n",
       "      <td>0.209634</td>\n",
       "      <td>-0.575860</td>\n",
       "      <td>1.113126</td>\n",
       "    </tr>\n",
       "    <tr>\n",
       "      <th>2</th>\n",
       "      <td>0.294199</td>\n",
       "      <td>-0.834435</td>\n",
       "      <td>-0.206244</td>\n",
       "      <td>0.896032</td>\n",
       "      <td>0.725953</td>\n",
       "      <td>-0.059461</td>\n",
       "      <td>-0.272713</td>\n",
       "      <td>-0.675933</td>\n",
       "      <td>-0.266518</td>\n",
       "      <td>-0.535843</td>\n",
       "      <td>...</td>\n",
       "      <td>0.395215</td>\n",
       "      <td>-0.828060</td>\n",
       "      <td>-0.501169</td>\n",
       "      <td>-0.367089</td>\n",
       "      <td>-0.470307</td>\n",
       "      <td>-0.080231</td>\n",
       "      <td>-0.094864</td>\n",
       "      <td>-0.067008</td>\n",
       "      <td>-0.169665</td>\n",
       "      <td>1.113126</td>\n",
       "    </tr>\n",
       "    <tr>\n",
       "      <th>3</th>\n",
       "      <td>1.722772</td>\n",
       "      <td>-0.834435</td>\n",
       "      <td>-0.206244</td>\n",
       "      <td>-1.144453</td>\n",
       "      <td>-0.630753</td>\n",
       "      <td>-0.059461</td>\n",
       "      <td>-0.272713</td>\n",
       "      <td>1.980795</td>\n",
       "      <td>-1.053530</td>\n",
       "      <td>0.385423</td>\n",
       "      <td>...</td>\n",
       "      <td>-0.685763</td>\n",
       "      <td>1.246243</td>\n",
       "      <td>0.557061</td>\n",
       "      <td>-0.704645</td>\n",
       "      <td>-0.470307</td>\n",
       "      <td>0.891388</td>\n",
       "      <td>0.993254</td>\n",
       "      <td>0.901239</td>\n",
       "      <td>-0.609710</td>\n",
       "      <td>-0.526713</td>\n",
       "    </tr>\n",
       "    <tr>\n",
       "      <th>4</th>\n",
       "      <td>0.600322</td>\n",
       "      <td>0.717204</td>\n",
       "      <td>-0.164756</td>\n",
       "      <td>1.916275</td>\n",
       "      <td>1.404306</td>\n",
       "      <td>-0.059461</td>\n",
       "      <td>-0.272713</td>\n",
       "      <td>0.421411</td>\n",
       "      <td>0.295633</td>\n",
       "      <td>-0.535843</td>\n",
       "      <td>...</td>\n",
       "      <td>0.652590</td>\n",
       "      <td>-0.590025</td>\n",
       "      <td>0.445668</td>\n",
       "      <td>-0.029534</td>\n",
       "      <td>1.032381</td>\n",
       "      <td>1.437923</td>\n",
       "      <td>0.289178</td>\n",
       "      <td>0.486276</td>\n",
       "      <td>1.996707</td>\n",
       "      <td>1.113126</td>\n",
       "    </tr>\n",
       "  </tbody>\n",
       "</table>\n",
       "<p>5 rows × 21 columns</p>\n",
       "</div>"
      ],
      "text/plain": [
       "         LB      AC.1      FM.1      UC.1      DL.1      DS.1      DP.1  \\\n",
       "0 -1.032333 -0.834435 -0.206244  0.896032  0.047600 -0.059461  2.986443   \n",
       "1  0.192158 -0.575829 -0.164756 -1.484534 -0.630753 -0.059461 -0.272713   \n",
       "2  0.294199 -0.834435 -0.206244  0.896032  0.725953 -0.059461 -0.272713   \n",
       "3  1.722772 -0.834435 -0.206244 -1.144453 -0.630753 -0.059461 -0.272713   \n",
       "4  0.600322  0.717204 -0.164756  1.916275  1.404306 -0.059461 -0.272713   \n",
       "\n",
       "       ASTV      MSTV      ALTV  ...     Width       Min       Max      Nmax  \\\n",
       "0 -1.195728  3.331247 -0.535843  ...  1.939469 -1.474154  1.782380  1.320689   \n",
       "1  0.652431 -0.828669  0.277039  ...  0.626853 -0.794055  0.055794  0.308022   \n",
       "2 -0.675933 -0.266518 -0.535843  ...  0.395215 -0.828060 -0.501169 -0.367089   \n",
       "3  1.980795 -1.053530  0.385423  ... -0.685763  1.246243  0.557061 -0.704645   \n",
       "4  0.421411  0.295633 -0.535843  ...  0.652590 -0.590025  0.445668 -0.029534   \n",
       "\n",
       "     Nzeros      Mode      Mean    Median  Variance  Tendency  \n",
       "0  1.032381 -0.687493 -1.887059 -1.726861  3.316840 -0.526713  \n",
       "1 -0.470307  0.101947  0.353185  0.209634 -0.575860  1.113126  \n",
       "2 -0.470307 -0.080231 -0.094864 -0.067008 -0.169665  1.113126  \n",
       "3 -0.470307  0.891388  0.993254  0.901239 -0.609710 -0.526713  \n",
       "4  1.032381  1.437923  0.289178  0.486276  1.996707  1.113126  \n",
       "\n",
       "[5 rows x 21 columns]"
      ]
     },
     "metadata": {},
     "output_type": "display_data"
    },
    {
     "data": {
      "text/html": [
       "<div>\n",
       "<style scoped>\n",
       "    .dataframe tbody tr th:only-of-type {\n",
       "        vertical-align: middle;\n",
       "    }\n",
       "\n",
       "    .dataframe tbody tr th {\n",
       "        vertical-align: top;\n",
       "    }\n",
       "\n",
       "    .dataframe thead th {\n",
       "        text-align: right;\n",
       "    }\n",
       "</style>\n",
       "<table border=\"1\" class=\"dataframe\">\n",
       "  <thead>\n",
       "    <tr style=\"text-align: right;\">\n",
       "      <th></th>\n",
       "      <th>NSP</th>\n",
       "    </tr>\n",
       "  </thead>\n",
       "  <tbody>\n",
       "    <tr>\n",
       "      <th>0</th>\n",
       "      <td>2.0</td>\n",
       "    </tr>\n",
       "    <tr>\n",
       "      <th>1</th>\n",
       "      <td>0.0</td>\n",
       "    </tr>\n",
       "    <tr>\n",
       "      <th>2</th>\n",
       "      <td>0.0</td>\n",
       "    </tr>\n",
       "    <tr>\n",
       "      <th>3</th>\n",
       "      <td>2.0</td>\n",
       "    </tr>\n",
       "    <tr>\n",
       "      <th>4</th>\n",
       "      <td>0.0</td>\n",
       "    </tr>\n",
       "  </tbody>\n",
       "</table>\n",
       "</div>"
      ],
      "text/plain": [
       "   NSP\n",
       "0  2.0\n",
       "1  0.0\n",
       "2  0.0\n",
       "3  2.0\n",
       "4  0.0"
      ]
     },
     "metadata": {},
     "output_type": "display_data"
    }
   ],
   "source": [
    "import pandas as pd\n",
    "\n",
    "X_train = pd.read_csv('data/processed/X_train_res.csv')\n",
    "X_test = pd.read_csv('data/processed/X_test.csv')\n",
    "y_train = pd.read_csv('data/processed/y_train_res.csv')\n",
    "y_test = pd.read_csv('data/processed/y_test.csv')\n",
    "\n",
    "# Shift labels from 1,2,3 → 0,1,2\n",
    "y_train = y_train - 1\n",
    "y_test = y_test - 1\n",
    "\n",
    "# Check shapes\n",
    "print(\"X_train shape:\", X_train.shape)\n",
    "print(\"X_test shape:\", X_test.shape)\n",
    "print(\"y_train shape:\", y_train.shape)\n",
    "print(\"y_test shape:\", y_test.shape)\n",
    "\n",
    "# Inspect first few rows\n",
    "display(X_train.head())\n",
    "display(y_train.head())\n"
   ]
  },
  {
   "cell_type": "code",
   "execution_count": 5,
   "metadata": {
    "id": "-99OjPC6Sz1I"
   },
   "outputs": [],
   "source": [
    "from sklearn.preprocessing import StandardScaler\n",
    "\n",
    "scaler = StandardScaler()\n",
    "X_train_scaled = scaler.fit_transform(X_train)\n",
    "X_test_scaled = scaler.transform(X_test)\n"
   ]
  },
  {
   "cell_type": "code",
   "execution_count": 6,
   "metadata": {
    "id": "WZFNYo3YW_eP"
   },
   "outputs": [],
   "source": [
    "from sklearn.svm import SVC\n",
    "from sklearn.model_selection import GridSearchCV"
   ]
  },
  {
   "cell_type": "code",
   "execution_count": 7,
   "metadata": {
    "id": "M4lBmikBW9XD"
   },
   "outputs": [],
   "source": [
    "from sklearn.svm import SVC\n",
    "from sklearn.model_selection import GridSearchCV\n",
    "from sklearn.metrics import classification_report\n",
    "import numpy as np\n",
    "\n",
    "kernels = ['linear', 'rbf', 'poly']\n",
    "\n",
    "param_grids = {\n",
    "    'linear': {'C':[0.1, 1, 10, 100]},\n",
    "    'rbf': {'C':[0.1, 1, 10], 'gamma':['scale','auto']},\n",
    "    'poly': {'C':[0.1, 1, 10], 'degree':[2, 3], 'gamma':['scale','auto']}\n",
    "}\n"
   ]
  },
  {
   "cell_type": "code",
   "execution_count": 8,
   "metadata": {
    "colab": {
     "base_uri": "https://localhost:8080/"
    },
    "id": "OiLIrgUOXCa9",
    "outputId": "e78adb2e-fbe4-427b-ec31-9910a7467292"
   },
   "outputs": [
    {
     "name": "stdout",
     "output_type": "stream",
     "text": [
      "Training SVM with LINEAR kernel...\n"
     ]
    },
    {
     "name": "stderr",
     "output_type": "stream",
     "text": [
      "D:\\Fetal-Health-Classification\\venv\\Lib\\site-packages\\sklearn\\utils\\validation.py:1408: DataConversionWarning: A column-vector y was passed when a 1d array was expected. Please change the shape of y to (n_samples, ), for example using ravel().\n",
      "  y = column_or_1d(y, warn=True)\n"
     ]
    },
    {
     "name": "stdout",
     "output_type": "stream",
     "text": [
      "\n",
      "SVM with LINEAR Kernel - PES2UG23CS377\n",
      "\n",
      "0.0    Precision: 0.99  Recall: 0.91  F1-score: 0.95  Support: 332\n",
      "1.0    Precision: 0.6  Recall: 0.86  F1-score: 0.71  Support: 59\n",
      "2.0    Precision: 0.81  Recall: 0.83  F1-score: 0.82  Support: 35\n",
      "\n",
      "Accuracy: 0.89  Total: 426\n",
      "Macro avg - Precision: 0.8  Recall: 0.87  F1-score: 0.82\n",
      "Weighted avg - Precision: 0.92  Recall: 0.89  F1-score: 0.9\n",
      "--------------------------------------------------\n",
      "\n",
      "Training SVM with RBF kernel...\n"
     ]
    },
    {
     "name": "stderr",
     "output_type": "stream",
     "text": [
      "D:\\Fetal-Health-Classification\\venv\\Lib\\site-packages\\sklearn\\utils\\validation.py:1408: DataConversionWarning: A column-vector y was passed when a 1d array was expected. Please change the shape of y to (n_samples, ), for example using ravel().\n",
      "  y = column_or_1d(y, warn=True)\n"
     ]
    },
    {
     "name": "stdout",
     "output_type": "stream",
     "text": [
      "\n",
      "SVM with RBF Kernel - PES2UG23CS377\n",
      "\n",
      "0.0    Precision: 0.97  Recall: 0.94  F1-score: 0.95  Support: 332\n",
      "1.0    Precision: 0.68  Recall: 0.81  F1-score: 0.74  Support: 59\n",
      "2.0    Precision: 0.91  Recall: 0.86  F1-score: 0.88  Support: 35\n",
      "\n",
      "Accuracy: 0.91  Total: 426\n",
      "Macro avg - Precision: 0.85  Recall: 0.87  F1-score: 0.86\n",
      "Weighted avg - Precision: 0.92  Recall: 0.91  F1-score: 0.92\n",
      "--------------------------------------------------\n",
      "\n",
      "Training SVM with POLY kernel...\n"
     ]
    },
    {
     "name": "stderr",
     "output_type": "stream",
     "text": [
      "D:\\Fetal-Health-Classification\\venv\\Lib\\site-packages\\sklearn\\utils\\validation.py:1408: DataConversionWarning: A column-vector y was passed when a 1d array was expected. Please change the shape of y to (n_samples, ), for example using ravel().\n",
      "  y = column_or_1d(y, warn=True)\n"
     ]
    },
    {
     "name": "stdout",
     "output_type": "stream",
     "text": [
      "\n",
      "SVM with POLY Kernel - PES2UG23CS377\n",
      "\n",
      "0.0    Precision: 0.97  Recall: 0.93  F1-score: 0.95  Support: 332\n",
      "1.0    Precision: 0.66  Recall: 0.85  F1-score: 0.74  Support: 59\n",
      "2.0    Precision: 0.93  Recall: 0.8  F1-score: 0.86  Support: 35\n",
      "\n",
      "Accuracy: 0.91  Total: 426\n",
      "Macro avg - Precision: 0.85  Recall: 0.86  F1-score: 0.85\n",
      "Weighted avg - Precision: 0.92  Recall: 0.91  F1-score: 0.91\n",
      "--------------------------------------------------\n",
      "\n"
     ]
    }
   ],
   "source": [
    "best_models = {}  # Initialize dictionary to store best models\n",
    "\n",
    "for kernel in kernels:\n",
    "    print(f\"Training SVM with {kernel.upper()} kernel...\")\n",
    "\n",
    "    svm = SVC(kernel=kernel, probability=True, random_state=42)\n",
    "    grid = GridSearchCV(svm, param_grid=param_grids[kernel], scoring='accuracy', cv=5, n_jobs=-1)\n",
    "    grid.fit(X_train_scaled, y_train)\n",
    "\n",
    "    best_svm = grid.best_estimator_\n",
    "    best_models[kernel] = best_svm\n",
    "\n",
    "    y_pred = best_svm.predict(X_test_scaled)\n",
    "    report = classification_report(y_test, y_pred, output_dict=True)\n",
    "\n",
    "    print(f\"\\nSVM with {kernel.upper()} Kernel - PES2UG23CS377\\n\")\n",
    "\n",
    "    for cls in sorted(np.unique(y_test)):\n",
    "        cls_str = str(cls)\n",
    "        precision = round(report[cls_str]['precision'], 2)\n",
    "        recall = round(report[cls_str]['recall'], 2)\n",
    "        f1 = round(report[cls_str]['f1-score'], 2)\n",
    "        support = int(report[cls_str]['support'])\n",
    "        print(f\"{cls_str:6} Precision: {precision}  Recall: {recall}  F1-score: {f1}  Support: {support}\")\n",
    "\n",
    "    accuracy = round(report['accuracy'], 2)\n",
    "    total = len(y_test)\n",
    "    print(f\"\\nAccuracy: {accuracy}  Total: {total}\")\n",
    "    macro = report['macro avg']\n",
    "    print(f\"Macro avg - Precision: {round(macro['precision'],2)}  Recall: {round(macro['recall'],2)}  F1-score: {round(macro['f1-score'],2)}\")\n",
    "    weighted = report['weighted avg']\n",
    "    print(f\"Weighted avg - Precision: {round(weighted['precision'],2)}  Recall: {round(weighted['recall'],2)}  F1-score: {round(weighted['f1-score'],2)}\")\n",
    "\n",
    "    print(\"-\"*50 + \"\\n\")\n"
   ]
  },
  {
   "cell_type": "code",
   "execution_count": 9,
   "metadata": {
    "colab": {
     "base_uri": "https://localhost:8080/"
    },
    "id": "XO5z9V5yURue",
    "outputId": "3ceabf30-a0a2-4701-cf99-b27fe221430a"
   },
   "outputs": [
    {
     "name": "stdout",
     "output_type": "stream",
     "text": [
      "Saved best SVM model to models/svm_best.joblib\n"
     ]
    }
   ],
   "source": [
    "import os\n",
    "import joblib\n",
    "\n",
    "# Create models folder if not already present\n",
    "os.makedirs(\"models\", exist_ok=True)\n",
    "\n",
    "# Save the best SVM model\n",
    "joblib.dump(best_svm, \"models/svm_best.joblib\")\n",
    "\n",
    "print(\"Saved best SVM model to models/svm_best.joblib\")\n"
   ]
  }
 ],
 "metadata": {
  "colab": {
   "provenance": []
  },
  "kernelspec": {
   "display_name": "Python 3 (ipykernel)",
   "language": "python",
   "name": "python3"
  },
  "language_info": {
   "codemirror_mode": {
    "name": "ipython",
    "version": 3
   },
   "file_extension": ".py",
   "mimetype": "text/x-python",
   "name": "python",
   "nbconvert_exporter": "python",
   "pygments_lexer": "ipython3",
   "version": "3.12.0"
  }
 },
 "nbformat": 4,
 "nbformat_minor": 4
}
