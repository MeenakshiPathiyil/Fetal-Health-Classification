{
 "cells": [
  {
   "cell_type": "code",
   "execution_count": 45,
   "id": "4df069cb",
   "metadata": {
    "vscode": {
     "languageId": "plaintext"
    }
   },
   "outputs": [],
   "source": [
    "import os\n",
    "import joblib\n",
    "import numpy as np\n",
    "import pandas as pd\n",
    "\n",
    "from sklearn.pipeline import make_pipeline\n",
    "from sklearn.preprocessing import StandardScaler\n",
    "from sklearn.ensemble import VotingClassifier, StackingClassifier\n",
    "from sklearn.linear_model import LogisticRegression\n",
    "from sklearn.linear_model import RidgeClassifierCV\n",
    "from sklearn.preprocessing import FunctionTransformer\n",
    "from sklearn.metrics import (\n",
    "    accuracy_score,\n",
    "    f1_score,\n",
    "    recall_score,\n",
    "    classification_report,\n",
    "    confusion_matrix\n",
    ")\n",
    "import seaborn as sns\n",
    "import matplotlib.pyplot as plt\n"
   ]
  },
  {
   "cell_type": "code",
   "execution_count": 46,
   "id": "23decf9e",
   "metadata": {
    "vscode": {
     "languageId": "plaintext"
    }
   },
   "outputs": [
    {
     "name": "stdout",
     "output_type": "stream",
     "text": [
      "(3978, 21) (3978,) (426, 21) (426,)\n",
      "Train class distribution:\n",
      " NSP\n",
      "2.0    1326\n",
      "0.0    1326\n",
      "1.0    1326\n",
      "Name: count, dtype: int64\n"
     ]
    }
   ],
   "source": [
    "# Load preprocessed CSVs\n",
    "X_train = pd.read_csv(\"data/processed/X_train_res.csv\")\n",
    "y_train = pd.read_csv(\"data/processed/y_train_res.csv\").squeeze()\n",
    "X_test = pd.read_csv(\"data/processed/X_test.csv\")\n",
    "y_test = pd.read_csv(\"data/processed/y_test.csv\").squeeze()\n",
    "\n",
    "# Adjust labels if needed (e.g., convert from [1,2,3] → [0,1,2])\n",
    "y_train = y_train - 1\n",
    "y_test = y_test - 1\n",
    "\n",
    "print(X_train.shape, y_train.shape, X_test.shape, y_test.shape)\n",
    "print(\"Train class distribution:\\n\", y_train.value_counts())\n",
    "\n",
    "rf_best = joblib.load(\"models/random_forest.joblib\")\n",
    "xgb_best = joblib.load(\"models/xgboost.joblib\")"
   ]
  },
  {
   "cell_type": "code",
   "execution_count": 47,
   "id": "83710eb9",
   "metadata": {
    "vscode": {
     "languageId": "plaintext"
    }
   },
   "outputs": [],
   "source": [
    "# Soft voting uses predicted probabilities → more stable for unbalanced data\n",
    "voting_clf = VotingClassifier(\n",
    "    estimators=[\n",
    "        ('rf', rf_best),\n",
    "        ('xgb', xgb_best)\n",
    "    ],\n",
    "    voting='soft'\n",
    ")\n",
    "voting_clf.fit(X_train, y_train)\n",
    "\n",
    "y_pred_vote = voting_clf.predict(X_test)"
   ]
  },
  {
   "cell_type": "code",
   "execution_count": 48,
   "id": "4c819605",
   "metadata": {
    "vscode": {
     "languageId": "plaintext"
    }
   },
   "outputs": [],
   "source": [
    "def clip_probs(X):\n",
    "    return np.clip(X, 1e-6, 1 - 1e-6)\n",
    "\n",
    "stacking_clf = StackingClassifier(\n",
    "    estimators=[\n",
    "        ('rf', rf_best),\n",
    "        ('xgb', xgb_best)\n",
    "    ],\n",
    "    final_estimator=make_pipeline(\n",
    "        FunctionTransformer(clip_probs),\n",
    "        StandardScaler(),\n",
    "        LogisticRegression(max_iter=2000, solver='lbfgs')\n",
    "    ),\n",
    "    stack_method='predict_proba',\n",
    "    passthrough=False\n",
    ")\n"
   ]
  },
  {
   "cell_type": "code",
   "execution_count": 49,
   "id": "64ba4c4e",
   "metadata": {
    "vscode": {
     "languageId": "plaintext"
    }
   },
   "outputs": [
    {
     "name": "stdout",
     "output_type": "stream",
     "text": [
      "\n",
      "Voting Ensemble Results:\n",
      "Accuracy: 0.9460 | F1 (macro): 0.9020 | Recall (macro): 0.8910\n",
      "              precision    recall  f1-score   support\n",
      "\n",
      "         0.0      0.962     0.979     0.970       332\n",
      "         1.0      0.868     0.780     0.821        59\n",
      "         2.0      0.914     0.914     0.914        35\n",
      "\n",
      "    accuracy                          0.946       426\n",
      "   macro avg      0.915     0.891     0.902       426\n",
      "weighted avg      0.945     0.946     0.945       426\n",
      "\n",
      "\n",
      "Stacking Ensemble Results:\n",
      "Accuracy: 0.9413 | F1 (macro): 0.8903 | Recall (macro): 0.8758\n",
      "              precision    recall  f1-score   support\n",
      "\n",
      "         0.0      0.959     0.979     0.969       332\n",
      "         1.0      0.849     0.763     0.804        59\n",
      "         2.0      0.912     0.886     0.899        35\n",
      "\n",
      "    accuracy                          0.941       426\n",
      "   macro avg      0.907     0.876     0.890       426\n",
      "weighted avg      0.940     0.941     0.940       426\n",
      "\n"
     ]
    }
   ],
   "source": [
    "def evaluate_model(name, y_true, y_pred):\n",
    "    acc = accuracy_score(y_true, y_pred)\n",
    "    f1 = f1_score(y_true, y_pred, average='macro')\n",
    "    recall = recall_score(y_true, y_pred, average='macro')\n",
    "    print(f\"\\n{name} Results:\")\n",
    "    print(f\"Accuracy: {acc:.4f} | F1 (macro): {f1:.4f} | Recall (macro): {recall:.4f}\")\n",
    "    print(classification_report(y_true, y_pred, digits=3))\n",
    "    return acc, f1, recall\n",
    "\n",
    "metrics = {}\n",
    "metrics['Voting Ensemble'] = evaluate_model(\"Voting Ensemble\", y_test, y_pred_vote)\n",
    "metrics['Stacking Ensemble'] = evaluate_model(\"Stacking Ensemble\", y_test, y_pred_stack)"
   ]
  },
  {
   "cell_type": "code",
   "execution_count": 50,
   "id": "1e4783fd",
   "metadata": {
    "vscode": {
     "languageId": "plaintext"
    }
   },
   "outputs": [
    {
     "name": "stdout",
     "output_type": "stream",
     "text": [
      "\n",
      "Overall Comparison:\n",
      "                    Accuracy  F1_macro  Recall_macro\n",
      "Voting Ensemble    0.946009  0.901955      0.890954\n",
      "Stacking Ensemble  0.941315  0.890275      0.875781\n"
     ]
    },
    {
     "data": {
      "image/png": "[encoded data removed]",
      "text/plain": [
       "<Figure size 640x480 with 1 Axes>"
      ]
     },
     "metadata": {},
     "output_type": "display_data"
    }
   ],
   "source": [
    "metrics_df = pd.DataFrame(metrics, index=[\"Accuracy\", \"F1_macro\", \"Recall_macro\"]).T\n",
    "print(\"\\nOverall Comparison:\\n\", metrics_df)\n",
    "\n",
    "sns.barplot(data=metrics_df, x=metrics_df.index, y=\"F1_macro\")\n",
    "plt.title(\"Ensemble Model Comparison (F1 Macro)\")\n",
    "plt.show()"
   ]
  },
  {
   "cell_type": "code",
   "execution_count": null,
   "id": "bec00c43",
   "metadata": {
    "vscode": {
     "languageId": "plaintext"
    }
   },
   "outputs": [
    {
     "name": "stdout",
     "output_type": "stream",
     "text": [
      "\n",
      "Ensembles completed and models saved.\n"
     ]
    }
   ],
   "source": [
    "os.makedirs(\"models\", exist_ok=True)\n",
    "joblib.dump(voting_clf, \"models/best_voting_ensemble.joblib\")\n",
    "joblib.dump(stacking_clf, \"models/best_stacking_ensemble.joblib\")\n",
    "print(\"\\n Ensembles completed and models saved\")"
   ]
  }
 ],
 "metadata": {
  "kernelspec": {
   "display_name": "Fetal Health (venv)",
   "language": "python",
   "name": "venv"
  },
  "language_info": {
   "codemirror_mode": {
    "name": "ipython",
    "version": 3
   },
   "file_extension": ".py",
   "mimetype": "text/x-python",
   "name": "python",
   "nbconvert_exporter": "python",
   "pygments_lexer": "ipython3",
   "version": "3.9.6"
  }
 },
 "nbformat": 4,
 "nbformat_minor": 5
}
