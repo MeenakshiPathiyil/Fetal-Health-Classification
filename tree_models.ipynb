{
 "cells": [
  {
   "cell_type": "code",
   "execution_count": null,
   "id": "891e8efb",
   "metadata": {
    "vscode": {
     "languageId": "plaintext"
    }
   },
   "outputs": [],
   "source": [
    "import pandas as pd\n",
    "import numpy as np\n",
    "from sklearn.ensemble import RandomForestClassifier\n",
    "from xgboost import XGBClassifier\n",
    "from sklearn.model_selection import GridSearchCV, RandomizedSearchCV\n",
    "from sklearn.metrics import classification_report, accuracy_score, confusion_matrix, f1_score\n",
    "from sklearn.metrics import accuracy_score, precision_score, recall_score, f1_score, roc_auc_score\n",
    "from sklearn.preprocessing import LabelBinarizer\n",
    "import joblib"
   ]
  },
  {
   "cell_type": "code",
   "execution_count": 51,
   "id": "d7eccc55",
   "metadata": {
    "vscode": {
     "languageId": "plaintext"
    }
   },
   "outputs": [
    {
     "name": "stdout",
     "output_type": "stream",
     "text": [
      "Shapes: (3978, 21) (3978,)\n",
      "Training class distribution:\n",
      " NSP\n",
      "2    1326\n",
      "0    1326\n",
      "1    1326\n",
      "Name: count, dtype: int64\n"
     ]
    }
   ],
   "source": [
    "X_train = pd.read_csv(\"data/processed/X_train_res.csv\")\n",
    "y_train = pd.read_csv(\"data/processed/y_train_res.csv\").squeeze()\n",
    "X_test = pd.read_csv(\"data/processed/X_test.csv\")\n",
    "y_test = pd.read_csv(\"data/processed/y_test.csv\").squeeze()\n",
    "\n",
    "# Labels shifted to 0,1,2\n",
    "y_train = y_train - 1\n",
    "y_test = y_test - 1\n",
    "\n",
    "y_train = y_train.astype(int)\n",
    "y_test = y_test.astype(int)\n",
    "\n",
    "\n",
    "print(\"Shapes:\", X_train.shape, y_train.shape)\n",
    "print(\"Training class distribution:\\n\", y_train.value_counts())\n",
    "\n",
    "X_test = X_test[X_train.columns]\n"
   ]
  },
  {
   "cell_type": "markdown",
   "id": "a8bda272",
   "metadata": {},
   "source": [
    "Random Forest"
   ]
  },
  {
   "cell_type": "code",
   "execution_count": 52,
   "id": "23f9cd38-1c30-4d40-9dd4-963d88d1e8ea",
   "metadata": {},
   "outputs": [
    {
     "name": "stdout",
     "output_type": "stream",
     "text": [
      "Train classes: [np.int64(0), np.int64(1), np.int64(2)]\n",
      "Test classes: [np.int64(0), np.int64(1), np.int64(2)]\n"
     ]
    }
   ],
   "source": [
    "print(\"Train classes:\", sorted(y_train.unique()))\n",
    "print(\"Test classes:\", sorted(y_test.unique()))"
   ]
  },
  {
   "cell_type": "code",
   "execution_count": null,
   "id": "f7e38f36",
   "metadata": {
    "vscode": {
     "languageId": "plaintext"
    }
   },
   "outputs": [
    {
     "name": "stdout",
     "output_type": "stream",
     "text": [
      "Baseline Random Forest performance:\n",
      "              precision    recall  f1-score   support\n",
      "\n",
      "           0      0.970     0.970     0.970       332\n",
      "           1      0.814     0.814     0.814        59\n",
      "           2      0.914     0.914     0.914        35\n",
      "\n",
      "    accuracy                          0.944       426\n",
      "   macro avg      0.899     0.899     0.899       426\n",
      "weighted avg      0.944     0.944     0.944       426\n",
      "\n",
      "Fitting 3 folds for each of 27 candidates, totalling 81 fits\n",
      "Best Random Forest params: {'max_depth': 20, 'min_samples_split': 2, 'n_estimators': 100}\n",
      "Tuned Random Forest performance:\n",
      "              precision    recall  f1-score   support\n",
      "\n",
      "           0      0.970     0.970     0.970       332\n",
      "           1      0.814     0.814     0.814        59\n",
      "           2      0.914     0.914     0.914        35\n",
      "\n",
      "    accuracy                          0.944       426\n",
      "   macro avg      0.899     0.899     0.899       426\n",
      "weighted avg      0.944     0.944     0.944       426\n",
      "\n"
     ]
    },
    {
     "data": {
      "text/plain": [
       "['models/random_forest.joblib']"
      ]
     },
     "execution_count": 53,
     "metadata": {},
     "output_type": "execute_result"
    }
   ],
   "source": [
    "y_pred = best_rf.predict(X_test)\n",
    "y_prob = best_rf.predict_proba(X_test)\n",
    "\n",
    "# Accuracy\n",
    "accuracy = accuracy_score(y_test, y_pred)\n",
    "\n",
    "# Precision, Recall, F1 (macro)\n",
    "precision = precision_score(y_test, y_pred, average='macro')\n",
    "recall = recall_score(y_test, y_pred, average='macro')\n",
    "f1 = f1_score(y_test, y_pred, average='macro')\n",
    "\n",
    "# ROC AUC (multiclass, one-vs-rest)\n",
    "lb = LabelBinarizer()\n",
    "y_test_bin = lb.fit_transform(y_test)\n",
    "roc_auc = roc_auc_score(y_test_bin, y_prob, average='macro', multi_class='ovr')\n",
    "\n",
    "# Print results\n",
    "print(\"Random Forest Performance Metrics:\")\n",
    "print(f\"Accuracy:  {accuracy:.4f}\")\n",
    "print(f\"Precision: {precision:.4f}\")\n",
    "print(f\"Recall:    {recall:.4f}\")\n",
    "print(f\"F1-score:  {f1:.4f}\")\n",
    "print(f\"ROC AUC:   {roc_auc:.4f}\")"
   ]
  },
  {
   "cell_type": "markdown",
   "id": "f3e64ab2",
   "metadata": {},
   "source": [
    "XG Boost"
   ]
  },
  {
   "cell_type": "code",
   "execution_count": null,
   "id": "28869609",
   "metadata": {
    "vscode": {
     "languageId": "plaintext"
    }
   },
   "outputs": [
    {
     "name": "stdout",
     "output_type": "stream",
     "text": [
      "Baseline XGBoost performance:\n",
      "              precision    recall  f1-score   support\n",
      "\n",
      "           0      0.967     0.973     0.970       332\n",
      "           1      0.855     0.797     0.825        59\n",
      "           2      0.865     0.914     0.889        35\n",
      "\n",
      "    accuracy                          0.944       426\n",
      "   macro avg      0.895     0.895     0.894       426\n",
      "weighted avg      0.943     0.944     0.943       426\n",
      "\n",
      "Fitting 3 folds for each of 15 candidates, totalling 45 fits\n",
      "Best XGBoost params: {'subsample': 1.0, 'n_estimators': 300, 'max_depth': 7, 'learning_rate': 0.05, 'colsample_bytree': 1.0}\n",
      "Tuned XGBoost performance:\n",
      "              precision    recall  f1-score   support\n",
      "\n",
      "           0      0.961     0.970     0.966       332\n",
      "           1      0.833     0.763     0.796        59\n",
      "           2      0.865     0.914     0.889        35\n",
      "\n",
      "    accuracy                          0.937       426\n",
      "   macro avg      0.886     0.882     0.884       426\n",
      "weighted avg      0.936     0.937     0.936       426\n",
      "\n"
     ]
    },
    {
     "data": {
      "text/plain": [
       "['models/xgboost.joblib']"
      ]
     },
     "execution_count": 54,
     "metadata": {},
     "output_type": "execute_result"
    }
   ],
   "source": [
    "y_pred = best_xgb.predict(X_test)\n",
    "y_prob = best_xgb.predict_proba(X_test)\n",
    "\n",
    "# Accuracy\n",
    "accuracy = accuracy_score(y_test, y_pred)\n",
    "\n",
    "# Precision, Recall, F1 (macro)\n",
    "precision = precision_score(y_test, y_pred, average='macro')\n",
    "recall = recall_score(y_test, y_pred, average='macro')\n",
    "f1 = f1_score(y_test, y_pred, average='macro')\n",
    "\n",
    "# ROC AUC (multiclass, one-vs-rest)\n",
    "lb = LabelBinarizer()\n",
    "y_test_bin = lb.fit_transform(y_test)\n",
    "roc_auc = roc_auc_score(y_test_bin, y_prob, average='macro', multi_class='ovr')\n",
    "\n",
    "# Print results\n",
    "print(\"XGBoost Performance Metrics:\")\n",
    "print(f\"Accuracy:  {accuracy:.4f}\")\n",
    "print(f\"Precision: {precision:.4f}\")\n",
    "print(f\"Recall:    {recall:.4f}\")\n",
    "print(f\"F1-score:  {f1:.4f}\")\n",
    "print(f\"ROC AUC:   {roc_auc:.4f}\")"
   ]
  },
  {
   "cell_type": "code",
   "execution_count": 55,
   "id": "fb02e9c8",
   "metadata": {
    "vscode": {
     "languageId": "plaintext"
    }
   },
   "outputs": [
    {
     "name": "stdout",
     "output_type": "stream",
     "text": [
      "\n",
      "Model Comparison Summary:\n",
      "Random Forest: Accuracy = 0.026, F1_macro = 0.022\n",
      "XGBoost: Accuracy = 0.937, F1_macro = 0.884\n"
     ]
    }
   ],
   "source": [
    "import joblib\n",
    "\n",
    "# Load your saved models\n",
    "rf_model = joblib.load(\"models/random_forest.joblib\")\n",
    "xgb_model = joblib.load(\"models/xgboost.joblib\")\n",
    "\n",
    "loaded_models = {\n",
    "    \"Random Forest\": rf_model,\n",
    "    \"XGBoost\": xgb_model\n",
    "}\n",
    "\n",
    "\n",
    "results = {}\n",
    "for name, model in models.items():\n",
    "    y_pred = model.predict(X_test)\n",
    "    acc = accuracy_score(y_test, y_pred)\n",
    "    f1 = f1_score(y_test, y_pred, average=\"macro\")\n",
    "    results[name] = {\"Accuracy\": acc, \"F1_macro\": f1}\n",
    "\n",
    "print(\"\\nModel Comparison Summary:\")\n",
    "for name, res in results.items():\n",
    "    print(f\"{name}: Accuracy = {res['Accuracy']:.3f}, F1_macro = {res['F1_macro']:.3f}\")\n",
    "\n",
    "pd.DataFrame(results).T.to_csv(\"results/tree_model_comparison.csv\")"
   ]
  },
  {
   "cell_type": "code",
   "execution_count": null,
   "id": "e7478bd0-7233-4e91-a1e4-ddfd2421b413",
   "metadata": {},
   "outputs": [],
   "source": []
  }
 ],
 "metadata": {
  "kernelspec": {
   "display_name": "Python 3 (ipykernel)",
   "language": "python",
   "name": "python3"
  },
  "language_info": {
   "codemirror_mode": {
    "name": "ipython",
    "version": 3
   },
   "file_extension": ".py",
   "mimetype": "text/x-python",
   "name": "python",
   "nbconvert_exporter": "python",
   "pygments_lexer": "ipython3",
   "version": "3.12.0"
  }
 },
 "nbformat": 4,
 "nbformat_minor": 5
}
